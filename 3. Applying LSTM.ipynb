{
 "cells": [
  {
   "cell_type": "markdown",
   "metadata": {},
   "source": [
    "<html><h1><center style=\"color:blue\">Applying LSTM Models on Raw Data</center></h1></html>"
   ]
  },
  {
   "cell_type": "code",
   "execution_count": 92,
   "metadata": {},
   "outputs": [],
   "source": [
    "# Importing Libraries\n",
    "\n",
    "import pandas as pd\n",
    "import numpy as np\n",
    "\n",
    "# Import Keras\n",
    "from keras import backend as K\n",
    "from keras.models import Sequential\n",
    "from keras.layers import LSTM\n",
    "from keras.layers.core import Dense, Dropout\n",
    "from keras.layers import BatchNormalization\n",
    "from keras.regularizers import L1L2\n"
   ]
  },
  {
   "cell_type": "code",
   "execution_count": 13,
   "metadata": {},
   "outputs": [],
   "source": [
    "# Activities are the class labels\n",
    "# It is a 6 class classification\n",
    "ACTIVITIES = {\n",
    "    0: 'WALKING',\n",
    "    1: 'WALKING_UPSTAIRS',\n",
    "    2: 'WALKING_DOWNSTAIRS',\n",
    "    3: 'SITTING',\n",
    "    4: 'STANDING',\n",
    "    5: 'LAYING',\n",
    "}"
   ]
  },
  {
   "cell_type": "code",
   "execution_count": 87,
   "metadata": {},
   "outputs": [],
   "source": [
    "import matplotlib.pyplot as plt\n",
    "import seaborn as sns\n",
    "\n",
    "# function to print the confusion matrix\n",
    "\n",
    "def confusion_matrix(Y_true, Y_pred):\n",
    "    \n",
    "    Y_true = pd.Series([ACTIVITIES[y] for y in np.argmax(Y_true, axis=1)])\n",
    "    Y_pred = pd.Series([ACTIVITIES[y] for y in np.argmax(Y_pred, axis=1)])\n",
    "\n",
    "    return pd.crosstab(Y_true, Y_pred, rownames=['True'], colnames=['Pred'])\n",
    "\n",
    "    \n",
    "   # result = confusion_matrix(Y_true, Y_pred)\n",
    "\n",
    "    #plt.figure(figsize=(10, 8))\n",
    "   # sns.heatmap(result, \n",
    "    #            xticklabels= list(ACTIVITIES.values()), \n",
    "     #           yticklabels=list(ACTIVITIES.values()), \n",
    "      #          annot=True, fmt=\"d\");\n",
    "   # plt.title(\"Confusion matrix\")\n",
    "   # plt.ylabel('True label')\n",
    "   # plt.xlabel('Predicted label')\n",
    "    plt.show()  "
   ]
  },
  {
   "cell_type": "markdown",
   "metadata": {},
   "source": [
    "<html><h1><p style=\"color:red\">Loading Data / Making Data </p></h1></html>"
   ]
  },
  {
   "cell_type": "code",
   "execution_count": 14,
   "metadata": {},
   "outputs": [],
   "source": [
    "# Data directory\n",
    "DATADIR = 'UCI_HAR_Dataset'\n",
    "\n",
    "# Raw data signals\n",
    "# Signals are from Accelerometer and Gyroscope\n",
    "# The signals are in x,y,z directions\n",
    "# Sensor signals are filtered to have only body acceleration\n",
    "# excluding the acceleration due to gravity\n",
    "# Triaxial acceleration from the accelerometer is total acceleration\n",
    "SIGNALS = [\n",
    "    \"body_acc_x\",\n",
    "    \"body_acc_y\",\n",
    "    \"body_acc_z\",\n",
    "    \"body_gyro_x\",\n",
    "    \"body_gyro_y\",\n",
    "    \"body_gyro_z\",\n",
    "    \"total_acc_x\",\n",
    "    \"total_acc_y\",\n",
    "    \"total_acc_z\"\n",
    "    ]"
   ]
  },
  {
   "cell_type": "code",
   "execution_count": 32,
   "metadata": {},
   "outputs": [],
   "source": [
    "# function to read the data from csv file\n",
    "def _read_csv(filename):\n",
    "    return pd.read_csv(filename, delim_whitespace=True, header=None)\n",
    "\n",
    "# function to load the load\n",
    "def load_signals(subset):\n",
    "    signals_data = []\n",
    "\n",
    "    for signal in SIGNALS:\n",
    "        filename = f'UCI_HAR_Dataset/{subset}/Inertial Signals/{signal}_{subset}.txt'\n",
    "        signals_data.append(\n",
    "            _read_csv(filename).to_numpy()\n",
    "        ) \n",
    "\n",
    "    # Transpose is used to change the dimensionality of the output,\n",
    "    # aggregating the signals by combination of sample/timestep.\n",
    "    # Resultant shape is (7352 train/2947 test samples, 128 timesteps, 9 signals)\n",
    "    return np.transpose(signals_data, (1, 2, 0))"
   ]
  },
  {
   "cell_type": "code",
   "execution_count": 39,
   "metadata": {},
   "outputs": [],
   "source": [
    "def load_y(subset):\n",
    "    \"\"\"\n",
    "    The objective that we are trying to predict is a integer, from 1 to 6,\n",
    "    that represents a human activity. We return a binary representation of \n",
    "    every sample objective as a 6 bits vector using One Hot Encoding\n",
    "    (https://pandas.pydata.org/pandas-docs/stable/generated/pandas.get_dummies.html)\n",
    "    \"\"\"\n",
    "    filename = f'UCI_HAR_Dataset/{subset}/y_{subset}.txt'\n",
    "    y = _read_csv(filename)[0]\n",
    "\n",
    "    return pd.get_dummies(y).to_numpy()"
   ]
  },
  {
   "cell_type": "code",
   "execution_count": 40,
   "metadata": {},
   "outputs": [],
   "source": [
    "def load_data():\n",
    "    \"\"\"\n",
    "    Obtain the dataset from multiple files.\n",
    "    Returns: X_train, X_test, y_train, y_test\n",
    "    \"\"\"\n",
    "    X_train, X_test = load_signals('train'), load_signals('test')\n",
    "    y_train, y_test = load_y('train'), load_y('test')\n",
    "\n",
    "    return X_train, X_test, y_train, y_test"
   ]
  },
  {
   "cell_type": "code",
   "execution_count": 41,
   "metadata": {},
   "outputs": [],
   "source": [
    "# Importing tensorflow\n",
    "np.random.seed(42)\n",
    "import tensorflow as tf\n",
    "tf.random.set_seed(42)"
   ]
  },
  {
   "cell_type": "code",
   "execution_count": 42,
   "metadata": {},
   "outputs": [],
   "source": [
    "# Initializing parameters\n",
    "epochs = 30\n",
    "batch_size = 16\n",
    "n_hidden = 32"
   ]
  },
  {
   "cell_type": "code",
   "execution_count": 43,
   "metadata": {},
   "outputs": [],
   "source": [
    "#function to count the number of classes\n",
    "def _count_classes(y):\n",
    "    return len(set([tuple(category) for category in y]))"
   ]
  },
  {
   "cell_type": "code",
   "execution_count": 44,
   "metadata": {},
   "outputs": [],
   "source": [
    "# Loading the train and test data\n",
    "X_train, X_test, Y_train, Y_test = load_data()"
   ]
  },
  {
   "cell_type": "code",
   "execution_count": 45,
   "metadata": {},
   "outputs": [
    {
     "name": "stdout",
     "output_type": "stream",
     "text": [
      "128\n",
      "9\n",
      "7352\n"
     ]
    }
   ],
   "source": [
    "timesteps = len(X_train[0])\n",
    "input_dim = len(X_train[0][0])\n",
    "n_classes = _count_classes(Y_train)\n",
    "\n",
    "print(timesteps)\n",
    "print(input_dim)\n",
    "print(len(X_train))"
   ]
  },
  {
   "cell_type": "code",
   "execution_count": null,
   "metadata": {},
   "outputs": [],
   "source": []
  },
  {
   "cell_type": "markdown",
   "metadata": {},
   "source": [
    "<html><h1><p style=\"color:red\">1. Defining the Architecture of 1-Layer of LSTM </p></h1></html>"
   ]
  },
  {
   "cell_type": "code",
   "execution_count": 47,
   "metadata": {},
   "outputs": [
    {
     "name": "stdout",
     "output_type": "stream",
     "text": [
      "Model: \"sequential_1\"\n",
      "_________________________________________________________________\n",
      "Layer (type)                 Output Shape              Param #   \n",
      "=================================================================\n",
      "lstm_1 (LSTM)                (None, 32)                5376      \n",
      "_________________________________________________________________\n",
      "dropout_1 (Dropout)          (None, 32)                0         \n",
      "_________________________________________________________________\n",
      "dense_1 (Dense)              (None, 6)                 198       \n",
      "=================================================================\n",
      "Total params: 5,574\n",
      "Trainable params: 5,574\n",
      "Non-trainable params: 0\n",
      "_________________________________________________________________\n"
     ]
    }
   ],
   "source": [
    "# Initiliazing the sequential model\n",
    "model = Sequential()\n",
    "# Configuring the parameters\n",
    "model.add(LSTM(n_hidden, input_shape=(timesteps, input_dim)))\n",
    "# Adding a dropout layer\n",
    "model.add(Dropout(0.5))\n",
    "# Adding a dense output layer with sigmoid activation\n",
    "model.add(Dense(n_classes, activation='sigmoid'))\n",
    "model.summary()"
   ]
  },
  {
   "cell_type": "code",
   "execution_count": 48,
   "metadata": {},
   "outputs": [],
   "source": [
    "# Compiling the model\n",
    "model.compile(loss='categorical_crossentropy', optimizer='rmsprop', metrics=['accuracy'])"
   ]
  },
  {
   "cell_type": "code",
   "execution_count": 49,
   "metadata": {
    "scrolled": false
   },
   "outputs": [
    {
     "name": "stdout",
     "output_type": "stream",
     "text": [
      "Train on 7352 samples, validate on 2947 samples\n",
      "Epoch 1/30\n",
      "7352/7352 [==============================] - 43s 6ms/step - loss: 1.2997 - accuracy: 0.4502 - val_loss: 1.0898 - val_accuracy: 0.5049\n",
      "Epoch 2/30\n",
      "7352/7352 [==============================] - 41s 6ms/step - loss: 0.9246 - accuracy: 0.6012 - val_loss: 0.8515 - val_accuracy: 0.5955\n",
      "Epoch 3/30\n",
      "7352/7352 [==============================] - 41s 6ms/step - loss: 0.7831 - accuracy: 0.6391 - val_loss: 0.7576 - val_accuracy: 0.6077\n",
      "Epoch 4/30\n",
      "7352/7352 [==============================] - 41s 6ms/step - loss: 0.7000 - accuracy: 0.6635 - val_loss: 0.7104 - val_accuracy: 0.6288\n",
      "Epoch 5/30\n",
      "7352/7352 [==============================] - 41s 6ms/step - loss: 0.6598 - accuracy: 0.6866 - val_loss: 0.7018 - val_accuracy: 0.6960\n",
      "Epoch 6/30\n",
      "7352/7352 [==============================] - 41s 6ms/step - loss: 0.5926 - accuracy: 0.7305 - val_loss: 0.9117 - val_accuracy: 0.6759\n",
      "Epoch 7/30\n",
      "7352/7352 [==============================] - 41s 6ms/step - loss: 0.5646 - accuracy: 0.7617 - val_loss: 0.6177 - val_accuracy: 0.7275\n",
      "Epoch 8/30\n",
      "7352/7352 [==============================] - 41s 6ms/step - loss: 0.5078 - accuracy: 0.7886 - val_loss: 0.5895 - val_accuracy: 0.7601\n",
      "Epoch 9/30\n",
      "7352/7352 [==============================] - 41s 6ms/step - loss: 0.4530 - accuracy: 0.8089 - val_loss: 0.5822 - val_accuracy: 0.7988\n",
      "Epoch 10/30\n",
      "7352/7352 [==============================] - 41s 6ms/step - loss: 0.4354 - accuracy: 0.8297 - val_loss: 0.5670 - val_accuracy: 0.7889\n",
      "Epoch 11/30\n",
      "7352/7352 [==============================] - 41s 6ms/step - loss: 0.4029 - accuracy: 0.8606 - val_loss: 0.5422 - val_accuracy: 0.8161\n",
      "Epoch 12/30\n",
      "7352/7352 [==============================] - 41s 6ms/step - loss: 0.3400 - accuracy: 0.8988 - val_loss: 0.4947 - val_accuracy: 0.8605\n",
      "Epoch 13/30\n",
      "7352/7352 [==============================] - 41s 6ms/step - loss: 0.3068 - accuracy: 0.9068 - val_loss: 0.5434 - val_accuracy: 0.8592\n",
      "Epoch 14/30\n",
      "7352/7352 [==============================] - 41s 6ms/step - loss: 0.2790 - accuracy: 0.9134 - val_loss: 0.4787 - val_accuracy: 0.8785\n",
      "Epoch 15/30\n",
      "7352/7352 [==============================] - 41s 6ms/step - loss: 0.2597 - accuracy: 0.9222 - val_loss: 0.5787 - val_accuracy: 0.8487\n",
      "Epoch 16/30\n",
      "7352/7352 [==============================] - 41s 6ms/step - loss: 0.2489 - accuracy: 0.9251 - val_loss: 0.5488 - val_accuracy: 0.8758\n",
      "Epoch 17/30\n",
      "7352/7352 [==============================] - 41s 6ms/step - loss: 0.2161 - accuracy: 0.9293 - val_loss: 0.3735 - val_accuracy: 0.9006\n",
      "Epoch 18/30\n",
      "7352/7352 [==============================] - 41s 6ms/step - loss: 0.2123 - accuracy: 0.9312 - val_loss: 0.4320 - val_accuracy: 0.8748\n",
      "Epoch 19/30\n",
      "7352/7352 [==============================] - 41s 6ms/step - loss: 0.2070 - accuracy: 0.9365 - val_loss: 0.4582 - val_accuracy: 0.8935\n",
      "Epoch 20/30\n",
      "7352/7352 [==============================] - 41s 6ms/step - loss: 0.1924 - accuracy: 0.9369 - val_loss: 0.4818 - val_accuracy: 0.8975\n",
      "Epoch 21/30\n",
      "7352/7352 [==============================] - 41s 6ms/step - loss: 0.1924 - accuracy: 0.9403 - val_loss: 0.4234 - val_accuracy: 0.8982\n",
      "Epoch 22/30\n",
      "7352/7352 [==============================] - 41s 6ms/step - loss: 0.1859 - accuracy: 0.9410 - val_loss: 0.5250 - val_accuracy: 0.8806\n",
      "Epoch 23/30\n",
      "7352/7352 [==============================] - 41s 6ms/step - loss: 0.1847 - accuracy: 0.9429 - val_loss: 0.5113 - val_accuracy: 0.8911\n",
      "Epoch 24/30\n",
      "7352/7352 [==============================] - 41s 6ms/step - loss: 0.1739 - accuracy: 0.9438 - val_loss: 0.4229 - val_accuracy: 0.9108\n",
      "Epoch 25/30\n",
      "7352/7352 [==============================] - 41s 6ms/step - loss: 0.1753 - accuracy: 0.9452 - val_loss: 0.3954 - val_accuracy: 0.8982\n",
      "Epoch 26/30\n",
      "7352/7352 [==============================] - 41s 6ms/step - loss: 0.1615 - accuracy: 0.9446 - val_loss: 0.6127 - val_accuracy: 0.8697\n",
      "Epoch 27/30\n",
      "7352/7352 [==============================] - 41s 6ms/step - loss: 0.1761 - accuracy: 0.9441 - val_loss: 0.6069 - val_accuracy: 0.8894\n",
      "Epoch 28/30\n",
      "7352/7352 [==============================] - 41s 6ms/step - loss: 0.1889 - accuracy: 0.9442 - val_loss: 0.4765 - val_accuracy: 0.8890\n",
      "Epoch 29/30\n",
      "7352/7352 [==============================] - 41s 6ms/step - loss: 0.1667 - accuracy: 0.9450 - val_loss: 0.4489 - val_accuracy: 0.9043\n",
      "Epoch 30/30\n",
      "7352/7352 [==============================] - 41s 6ms/step - loss: 0.1568 - accuracy: 0.9476 - val_loss: 0.4715 - val_accuracy: 0.9006\n"
     ]
    },
    {
     "data": {
      "text/plain": [
       "<keras.callbacks.callbacks.History at 0x131cf002fd0>"
      ]
     },
     "execution_count": 49,
     "metadata": {},
     "output_type": "execute_result"
    }
   ],
   "source": [
    "# Training the model\n",
    "model.fit(X_train, Y_train, batch_size=batch_size, validation_data=(X_test, Y_test),epochs=epochs)"
   ]
  },
  {
   "cell_type": "code",
   "execution_count": null,
   "metadata": {
    "scrolled": false
   },
   "outputs": [],
   "source": []
  },
  {
   "cell_type": "code",
   "execution_count": 88,
   "metadata": {
    "scrolled": false
   },
   "outputs": [
    {
     "data": {
      "text/html": [
       "<div>\n",
       "<style scoped>\n",
       "    .dataframe tbody tr th:only-of-type {\n",
       "        vertical-align: middle;\n",
       "    }\n",
       "\n",
       "    .dataframe tbody tr th {\n",
       "        vertical-align: top;\n",
       "    }\n",
       "\n",
       "    .dataframe thead th {\n",
       "        text-align: right;\n",
       "    }\n",
       "</style>\n",
       "<table border=\"1\" class=\"dataframe\">\n",
       "  <thead>\n",
       "    <tr style=\"text-align: right;\">\n",
       "      <th>Pred</th>\n",
       "      <th>LAYING</th>\n",
       "      <th>SITTING</th>\n",
       "      <th>STANDING</th>\n",
       "      <th>WALKING</th>\n",
       "      <th>WALKING_DOWNSTAIRS</th>\n",
       "      <th>WALKING_UPSTAIRS</th>\n",
       "    </tr>\n",
       "    <tr>\n",
       "      <th>True</th>\n",
       "      <th></th>\n",
       "      <th></th>\n",
       "      <th></th>\n",
       "      <th></th>\n",
       "      <th></th>\n",
       "      <th></th>\n",
       "    </tr>\n",
       "  </thead>\n",
       "  <tbody>\n",
       "    <tr>\n",
       "      <th>LAYING</th>\n",
       "      <td>513</td>\n",
       "      <td>0</td>\n",
       "      <td>19</td>\n",
       "      <td>4</td>\n",
       "      <td>0</td>\n",
       "      <td>1</td>\n",
       "    </tr>\n",
       "    <tr>\n",
       "      <th>SITTING</th>\n",
       "      <td>0</td>\n",
       "      <td>418</td>\n",
       "      <td>70</td>\n",
       "      <td>0</td>\n",
       "      <td>0</td>\n",
       "      <td>3</td>\n",
       "    </tr>\n",
       "    <tr>\n",
       "      <th>STANDING</th>\n",
       "      <td>0</td>\n",
       "      <td>109</td>\n",
       "      <td>423</td>\n",
       "      <td>0</td>\n",
       "      <td>0</td>\n",
       "      <td>0</td>\n",
       "    </tr>\n",
       "    <tr>\n",
       "      <th>WALKING</th>\n",
       "      <td>0</td>\n",
       "      <td>1</td>\n",
       "      <td>1</td>\n",
       "      <td>461</td>\n",
       "      <td>14</td>\n",
       "      <td>19</td>\n",
       "    </tr>\n",
       "    <tr>\n",
       "      <th>WALKING_DOWNSTAIRS</th>\n",
       "      <td>0</td>\n",
       "      <td>0</td>\n",
       "      <td>0</td>\n",
       "      <td>1</td>\n",
       "      <td>377</td>\n",
       "      <td>42</td>\n",
       "    </tr>\n",
       "    <tr>\n",
       "      <th>WALKING_UPSTAIRS</th>\n",
       "      <td>0</td>\n",
       "      <td>0</td>\n",
       "      <td>0</td>\n",
       "      <td>7</td>\n",
       "      <td>2</td>\n",
       "      <td>462</td>\n",
       "    </tr>\n",
       "  </tbody>\n",
       "</table>\n",
       "</div>"
      ],
      "text/plain": [
       "Pred                LAYING  SITTING  STANDING  WALKING  WALKING_DOWNSTAIRS  \\\n",
       "True                                                                         \n",
       "LAYING                 513        0        19        4                   0   \n",
       "SITTING                  0      418        70        0                   0   \n",
       "STANDING                 0      109       423        0                   0   \n",
       "WALKING                  0        1         1      461                  14   \n",
       "WALKING_DOWNSTAIRS       0        0         0        1                 377   \n",
       "WALKING_UPSTAIRS         0        0         0        7                   2   \n",
       "\n",
       "Pred                WALKING_UPSTAIRS  \n",
       "True                                  \n",
       "LAYING                             1  \n",
       "SITTING                            3  \n",
       "STANDING                           0  \n",
       "WALKING                           19  \n",
       "WALKING_DOWNSTAIRS                42  \n",
       "WALKING_UPSTAIRS                 462  "
      ]
     },
     "execution_count": 88,
     "metadata": {},
     "output_type": "execute_result"
    }
   ],
   "source": [
    "# Confusion Matrix\n",
    "new_confusion_matrix(Y_test, model.predict(X_test))"
   ]
  },
  {
   "cell_type": "code",
   "execution_count": 60,
   "metadata": {},
   "outputs": [
    {
     "name": "stdout",
     "output_type": "stream",
     "text": [
      "2947/2947 [==============================] - 2s 568us/step\n",
      "\n",
      "   cat_crossentropy  ||   accuracy \n",
      "  ____________________________________\n",
      "[0.47147004155789973, 0.9005768299102783]\n"
     ]
    }
   ],
   "source": [
    "score = model.evaluate(X_test, Y_test)\n",
    "\n",
    "print(\"\\n   cat_crossentropy  ||   accuracy \")\n",
    "print(\"  ____________________________________\")\n",
    "print(score)"
   ]
  },
  {
   "cell_type": "markdown",
   "metadata": {},
   "source": [
    "<html><h3><p style=\"color:#008080\">With a simple 1 layer architecture we got 90.09% accuracy and a loss of 0.47</p></h4></html>"
   ]
  },
  {
   "cell_type": "markdown",
   "metadata": {},
   "source": []
  },
  {
   "cell_type": "markdown",
   "metadata": {},
   "source": [
    "<html><h1><p style=\"color:red\">2. Defining the Architecture of 2-Layer of LSTM with more hyperparameter tunning </p></h1></html>"
   ]
  },
  {
   "cell_type": "markdown",
   "metadata": {},
   "source": [
    "### 2.1 First Model for 2-Layer of LSTM with more hyperparameter tunning"
   ]
  },
  {
   "cell_type": "code",
   "execution_count": 93,
   "metadata": {},
   "outputs": [],
   "source": [
    "# Initializing parameters\n",
    "n_epochs = 30\n",
    "n_batch = 16\n",
    "n_classes = _count_classes(Y_train)\n",
    "\n",
    "# Bias regularizer value - we will use elasticnet\n",
    "reg = L1L2(0.01, 0.01)"
   ]
  },
  {
   "cell_type": "code",
   "execution_count": 94,
   "metadata": {},
   "outputs": [
    {
     "name": "stdout",
     "output_type": "stream",
     "text": [
      "Model Summary: \n",
      "Model: \"sequential_2\"\n",
      "_________________________________________________________________\n",
      "Layer (type)                 Output Shape              Param #   \n",
      "=================================================================\n",
      "lstm_2 (LSTM)                (None, 128, 48)           11136     \n",
      "_________________________________________________________________\n",
      "batch_normalization_1 (Batch (None, 128, 48)           192       \n",
      "_________________________________________________________________\n",
      "dropout_2 (Dropout)          (None, 128, 48)           0         \n",
      "_________________________________________________________________\n",
      "lstm_3 (LSTM)                (None, 32)                10368     \n",
      "_________________________________________________________________\n",
      "dropout_3 (Dropout)          (None, 32)                0         \n",
      "_________________________________________________________________\n",
      "dense_2 (Dense)              (None, 6)                 198       \n",
      "=================================================================\n",
      "Total params: 21,894\n",
      "Trainable params: 21,798\n",
      "Non-trainable params: 96\n",
      "_________________________________________________________________\n"
     ]
    }
   ],
   "source": [
    "# Model execution\n",
    "model = Sequential()\n",
    "model.add(LSTM(48, input_shape=(timesteps, input_dim), return_sequences=True,bias_regularizer=reg ))\n",
    "model.add(BatchNormalization())\n",
    "model.add(Dropout(0.50))\n",
    "model.add(LSTM(32))\n",
    "model.add(Dropout(0.50))\n",
    "model.add(Dense(n_classes, activation='sigmoid'))\n",
    "print(\"Model Summary: \")\n",
    "model.summary()"
   ]
  },
  {
   "cell_type": "code",
   "execution_count": 95,
   "metadata": {},
   "outputs": [],
   "source": [
    "model.compile(loss='categorical_crossentropy', optimizer='adam', metrics=['accuracy'])"
   ]
  },
  {
   "cell_type": "code",
   "execution_count": 96,
   "metadata": {},
   "outputs": [
    {
     "name": "stdout",
     "output_type": "stream",
     "text": [
      "Train on 7352 samples, validate on 2947 samples\n",
      "Epoch 1/30\n",
      "7352/7352 [==============================] - 84s 11ms/step - loss: 1.7780 - accuracy: 0.6234 - val_loss: 1.4911 - val_accuracy: 0.6071\n",
      "Epoch 2/30\n",
      "7352/7352 [==============================] - 84s 11ms/step - loss: 0.9271 - accuracy: 0.7723 - val_loss: 0.6301 - val_accuracy: 0.8151\n",
      "Epoch 3/30\n",
      "7352/7352 [==============================] - 84s 11ms/step - loss: 0.6144 - accuracy: 0.8328 - val_loss: 0.5123 - val_accuracy: 0.8185\n",
      "Epoch 4/30\n",
      "7352/7352 [==============================] - 85s 12ms/step - loss: 0.3950 - accuracy: 0.8885 - val_loss: 0.3122 - val_accuracy: 0.8806\n",
      "Epoch 5/30\n",
      "7352/7352 [==============================] - 85s 12ms/step - loss: 0.3201 - accuracy: 0.9059 - val_loss: 0.2809 - val_accuracy: 0.9009\n",
      "Epoch 6/30\n",
      "7352/7352 [==============================] - 85s 12ms/step - loss: 0.2534 - accuracy: 0.9246 - val_loss: 0.2453 - val_accuracy: 0.9230\n",
      "Epoch 7/30\n",
      "7352/7352 [==============================] - 85s 12ms/step - loss: 0.2696 - accuracy: 0.9211 - val_loss: 0.3796 - val_accuracy: 0.8429\n",
      "Epoch 8/30\n",
      "7352/7352 [==============================] - 85s 12ms/step - loss: 0.2155 - accuracy: 0.9321 - val_loss: 0.1972 - val_accuracy: 0.9325\n",
      "Epoch 9/30\n",
      "7352/7352 [==============================] - 85s 12ms/step - loss: 0.2002 - accuracy: 0.9321 - val_loss: 0.3022 - val_accuracy: 0.8904\n",
      "Epoch 10/30\n",
      "7352/7352 [==============================] - 85s 12ms/step - loss: 0.2217 - accuracy: 0.9252 - val_loss: 0.3029 - val_accuracy: 0.9097\n",
      "Epoch 11/30\n",
      "7352/7352 [==============================] - 85s 12ms/step - loss: 0.2189 - accuracy: 0.9285 - val_loss: 0.2121 - val_accuracy: 0.9240\n",
      "Epoch 12/30\n",
      "7352/7352 [==============================] - 85s 11ms/step - loss: 0.1965 - accuracy: 0.9348 - val_loss: 0.1986 - val_accuracy: 0.9213\n",
      "Epoch 13/30\n",
      "7352/7352 [==============================] - 85s 12ms/step - loss: 0.1797 - accuracy: 0.9370 - val_loss: 0.3006 - val_accuracy: 0.9138\n",
      "Epoch 14/30\n",
      "7352/7352 [==============================] - 85s 11ms/step - loss: 0.1617 - accuracy: 0.9426 - val_loss: 0.2833 - val_accuracy: 0.9050\n",
      "Epoch 15/30\n",
      "7352/7352 [==============================] - 85s 12ms/step - loss: 0.1665 - accuracy: 0.9395 - val_loss: 0.3443 - val_accuracy: 0.8894\n",
      "Epoch 16/30\n",
      "7352/7352 [==============================] - 84s 11ms/step - loss: 0.1718 - accuracy: 0.9385 - val_loss: 0.2555 - val_accuracy: 0.9270\n",
      "Epoch 17/30\n",
      "7352/7352 [==============================] - 85s 12ms/step - loss: 0.1626 - accuracy: 0.9452 - val_loss: 0.3098 - val_accuracy: 0.8992\n",
      "Epoch 18/30\n",
      "7352/7352 [==============================] - 85s 12ms/step - loss: 0.1551 - accuracy: 0.9433 - val_loss: 0.2782 - val_accuracy: 0.9155\n",
      "Epoch 19/30\n",
      "7352/7352 [==============================] - 85s 12ms/step - loss: 0.1632 - accuracy: 0.9382 - val_loss: 0.2661 - val_accuracy: 0.9253\n",
      "Epoch 20/30\n",
      "7352/7352 [==============================] - 85s 11ms/step - loss: 0.1580 - accuracy: 0.9423 - val_loss: 0.2831 - val_accuracy: 0.9237\n",
      "Epoch 21/30\n",
      "7352/7352 [==============================] - 85s 12ms/step - loss: 0.1676 - accuracy: 0.9422 - val_loss: 0.2472 - val_accuracy: 0.9172\n",
      "Epoch 22/30\n",
      "7352/7352 [==============================] - 85s 12ms/step - loss: 0.1523 - accuracy: 0.9456 - val_loss: 0.2377 - val_accuracy: 0.9315\n",
      "Epoch 23/30\n",
      "7352/7352 [==============================] - 85s 12ms/step - loss: 0.1459 - accuracy: 0.9459 - val_loss: 0.2817 - val_accuracy: 0.9260\n",
      "Epoch 24/30\n",
      "7352/7352 [==============================] - 84s 11ms/step - loss: 0.1820 - accuracy: 0.9357 - val_loss: 0.2484 - val_accuracy: 0.9213\n",
      "Epoch 25/30\n",
      "7352/7352 [==============================] - 85s 12ms/step - loss: 0.1495 - accuracy: 0.9442 - val_loss: 0.2592 - val_accuracy: 0.9304\n",
      "Epoch 26/30\n",
      "7352/7352 [==============================] - 85s 12ms/step - loss: 0.1412 - accuracy: 0.9518 - val_loss: 0.3391 - val_accuracy: 0.9247\n",
      "Epoch 27/30\n",
      "7352/7352 [==============================] - 84s 11ms/step - loss: 0.1579 - accuracy: 0.9385 - val_loss: 0.3264 - val_accuracy: 0.9104\n",
      "Epoch 28/30\n",
      "7352/7352 [==============================] - 84s 11ms/step - loss: 0.1603 - accuracy: 0.9456 - val_loss: 0.3852 - val_accuracy: 0.9230\n",
      "Epoch 29/30\n",
      "7352/7352 [==============================] - 84s 11ms/step - loss: 0.1524 - accuracy: 0.9460 - val_loss: 0.2843 - val_accuracy: 0.9267\n",
      "Epoch 30/30\n",
      "7352/7352 [==============================] - 84s 11ms/step - loss: 0.1488 - accuracy: 0.9456 - val_loss: 0.3922 - val_accuracy: 0.9036\n"
     ]
    },
    {
     "data": {
      "text/plain": [
       "<keras.callbacks.callbacks.History at 0x131d4cfbf60>"
      ]
     },
     "execution_count": 96,
     "metadata": {},
     "output_type": "execute_result"
    }
   ],
   "source": [
    "# Training the model\n",
    "model.fit(X_train, Y_train, batch_size=n_batch, validation_data=(X_test, Y_test), epochs=n_epochs)"
   ]
  },
  {
   "cell_type": "code",
   "execution_count": 97,
   "metadata": {},
   "outputs": [
    {
     "data": {
      "text/html": [
       "<div>\n",
       "<style scoped>\n",
       "    .dataframe tbody tr th:only-of-type {\n",
       "        vertical-align: middle;\n",
       "    }\n",
       "\n",
       "    .dataframe tbody tr th {\n",
       "        vertical-align: top;\n",
       "    }\n",
       "\n",
       "    .dataframe thead th {\n",
       "        text-align: right;\n",
       "    }\n",
       "</style>\n",
       "<table border=\"1\" class=\"dataframe\">\n",
       "  <thead>\n",
       "    <tr style=\"text-align: right;\">\n",
       "      <th>Pred</th>\n",
       "      <th>LAYING</th>\n",
       "      <th>SITTING</th>\n",
       "      <th>STANDING</th>\n",
       "      <th>WALKING</th>\n",
       "      <th>WALKING_DOWNSTAIRS</th>\n",
       "      <th>WALKING_UPSTAIRS</th>\n",
       "    </tr>\n",
       "    <tr>\n",
       "      <th>True</th>\n",
       "      <th></th>\n",
       "      <th></th>\n",
       "      <th></th>\n",
       "      <th></th>\n",
       "      <th></th>\n",
       "      <th></th>\n",
       "    </tr>\n",
       "  </thead>\n",
       "  <tbody>\n",
       "    <tr>\n",
       "      <th>LAYING</th>\n",
       "      <td>537</td>\n",
       "      <td>0</td>\n",
       "      <td>0</td>\n",
       "      <td>0</td>\n",
       "      <td>0</td>\n",
       "      <td>0</td>\n",
       "    </tr>\n",
       "    <tr>\n",
       "      <th>SITTING</th>\n",
       "      <td>0</td>\n",
       "      <td>374</td>\n",
       "      <td>113</td>\n",
       "      <td>0</td>\n",
       "      <td>0</td>\n",
       "      <td>4</td>\n",
       "    </tr>\n",
       "    <tr>\n",
       "      <th>STANDING</th>\n",
       "      <td>0</td>\n",
       "      <td>65</td>\n",
       "      <td>467</td>\n",
       "      <td>0</td>\n",
       "      <td>0</td>\n",
       "      <td>0</td>\n",
       "    </tr>\n",
       "    <tr>\n",
       "      <th>WALKING</th>\n",
       "      <td>0</td>\n",
       "      <td>0</td>\n",
       "      <td>0</td>\n",
       "      <td>445</td>\n",
       "      <td>50</td>\n",
       "      <td>1</td>\n",
       "    </tr>\n",
       "    <tr>\n",
       "      <th>WALKING_DOWNSTAIRS</th>\n",
       "      <td>0</td>\n",
       "      <td>0</td>\n",
       "      <td>0</td>\n",
       "      <td>0</td>\n",
       "      <td>420</td>\n",
       "      <td>0</td>\n",
       "    </tr>\n",
       "    <tr>\n",
       "      <th>WALKING_UPSTAIRS</th>\n",
       "      <td>0</td>\n",
       "      <td>0</td>\n",
       "      <td>0</td>\n",
       "      <td>2</td>\n",
       "      <td>49</td>\n",
       "      <td>420</td>\n",
       "    </tr>\n",
       "  </tbody>\n",
       "</table>\n",
       "</div>"
      ],
      "text/plain": [
       "Pred                LAYING  SITTING  STANDING  WALKING  WALKING_DOWNSTAIRS  \\\n",
       "True                                                                         \n",
       "LAYING                 537        0         0        0                   0   \n",
       "SITTING                  0      374       113        0                   0   \n",
       "STANDING                 0       65       467        0                   0   \n",
       "WALKING                  0        0         0      445                  50   \n",
       "WALKING_DOWNSTAIRS       0        0         0        0                 420   \n",
       "WALKING_UPSTAIRS         0        0         0        2                  49   \n",
       "\n",
       "Pred                WALKING_UPSTAIRS  \n",
       "True                                  \n",
       "LAYING                             0  \n",
       "SITTING                            4  \n",
       "STANDING                           0  \n",
       "WALKING                            1  \n",
       "WALKING_DOWNSTAIRS                 0  \n",
       "WALKING_UPSTAIRS                 420  "
      ]
     },
     "execution_count": 97,
     "metadata": {},
     "output_type": "execute_result"
    }
   ],
   "source": [
    "# Confusion Matrix\n",
    "new_confusion_matrix(Y_test, model.predict(X_test))"
   ]
  },
  {
   "cell_type": "code",
   "execution_count": 99,
   "metadata": {},
   "outputs": [
    {
     "name": "stdout",
     "output_type": "stream",
     "text": [
      "2947/2947 [==============================] - 3s 1ms/step\n",
      "\n",
      "   cat_crossentropy  ||   accuracy \n",
      "  ____________________________________\n",
      "[0.3922457374024961, 0.903630793094635]\n"
     ]
    }
   ],
   "source": [
    "score = model.evaluate(X_test, Y_test)\n",
    "\n",
    "print(\"\\n   cat_crossentropy  ||   accuracy \")\n",
    "print(\"  ____________________________________\")\n",
    "print(score)"
   ]
  },
  {
   "cell_type": "code",
   "execution_count": null,
   "metadata": {},
   "outputs": [],
   "source": []
  },
  {
   "cell_type": "markdown",
   "metadata": {},
   "source": [
    "### 2.2 Second Model for 2-Layer of LSTM with more hyperparameter tunning"
   ]
  },
  {
   "cell_type": "code",
   "execution_count": 100,
   "metadata": {},
   "outputs": [
    {
     "name": "stdout",
     "output_type": "stream",
     "text": [
      "Model Summary: \n",
      "Model: \"sequential_3\"\n",
      "_________________________________________________________________\n",
      "Layer (type)                 Output Shape              Param #   \n",
      "=================================================================\n",
      "lstm_4 (LSTM)                (None, 128, 64)           18944     \n",
      "_________________________________________________________________\n",
      "batch_normalization_2 (Batch (None, 128, 64)           256       \n",
      "_________________________________________________________________\n",
      "dropout_4 (Dropout)          (None, 128, 64)           0         \n",
      "_________________________________________________________________\n",
      "lstm_5 (LSTM)                (None, 48)                21696     \n",
      "_________________________________________________________________\n",
      "dropout_5 (Dropout)          (None, 48)                0         \n",
      "_________________________________________________________________\n",
      "dense_3 (Dense)              (None, 6)                 294       \n",
      "=================================================================\n",
      "Total params: 41,190\n",
      "Trainable params: 41,062\n",
      "Non-trainable params: 128\n",
      "_________________________________________________________________\n"
     ]
    }
   ],
   "source": [
    "# Model execution\n",
    "model = Sequential()\n",
    "model.add(LSTM(64, input_shape=(timesteps, input_dim), return_sequences=True, bias_regularizer=reg))\n",
    "model.add(BatchNormalization())\n",
    "model.add(Dropout(0.50))\n",
    "model.add(LSTM(48))\n",
    "model.add(Dropout(0.50))\n",
    "model.add(Dense(n_classes, activation='sigmoid'))\n",
    "print(\"Model Summary: \")\n",
    "model.summary()"
   ]
  },
  {
   "cell_type": "code",
   "execution_count": 101,
   "metadata": {},
   "outputs": [],
   "source": [
    "model.compile(loss='categorical_crossentropy', optimizer='adam', metrics=['accuracy'])"
   ]
  },
  {
   "cell_type": "code",
   "execution_count": 102,
   "metadata": {},
   "outputs": [
    {
     "name": "stdout",
     "output_type": "stream",
     "text": [
      "Train on 7352 samples, validate on 2947 samples\n",
      "Epoch 1/30\n",
      "7352/7352 [==============================] - 85s 11ms/step - loss: 1.8590 - accuracy: 0.6396 - val_loss: 1.3335 - val_accuracy: 0.6362\n",
      "Epoch 2/30\n",
      "7352/7352 [==============================] - 84s 11ms/step - loss: 0.9453 - accuracy: 0.8044 - val_loss: 0.7366 - val_accuracy: 0.8378\n",
      "Epoch 3/30\n",
      "7352/7352 [==============================] - 85s 11ms/step - loss: 0.4631 - accuracy: 0.8964 - val_loss: 0.3560 - val_accuracy: 0.8890\n",
      "Epoch 4/30\n",
      "7352/7352 [==============================] - 85s 12ms/step - loss: 0.2618 - accuracy: 0.9229 - val_loss: 0.2307 - val_accuracy: 0.9240\n",
      "Epoch 5/30\n",
      "7352/7352 [==============================] - 84s 11ms/step - loss: 0.2229 - accuracy: 0.9306 - val_loss: 0.2192 - val_accuracy: 0.9182\n",
      "Epoch 6/30\n",
      "7352/7352 [==============================] - 85s 12ms/step - loss: 0.2097 - accuracy: 0.9287 - val_loss: 0.2898 - val_accuracy: 0.9125\n",
      "Epoch 7/30\n",
      "7352/7352 [==============================] - 85s 12ms/step - loss: 0.1927 - accuracy: 0.9314 - val_loss: 0.2269 - val_accuracy: 0.9240\n",
      "Epoch 8/30\n",
      "7352/7352 [==============================] - 85s 12ms/step - loss: 0.1715 - accuracy: 0.9378 - val_loss: 0.2288 - val_accuracy: 0.9264\n",
      "Epoch 9/30\n",
      "7352/7352 [==============================] - 84s 11ms/step - loss: 0.1794 - accuracy: 0.9369 - val_loss: 0.2861 - val_accuracy: 0.8826\n",
      "Epoch 10/30\n",
      "7352/7352 [==============================] - 84s 11ms/step - loss: 0.2015 - accuracy: 0.9287 - val_loss: 0.1937 - val_accuracy: 0.9131\n",
      "Epoch 11/30\n",
      "7352/7352 [==============================] - 84s 11ms/step - loss: 0.1559 - accuracy: 0.9410 - val_loss: 0.1972 - val_accuracy: 0.9298\n",
      "Epoch 12/30\n",
      "7352/7352 [==============================] - 85s 12ms/step - loss: 0.2217 - accuracy: 0.9268 - val_loss: 0.2370 - val_accuracy: 0.8989\n",
      "Epoch 13/30\n",
      "7352/7352 [==============================] - 85s 12ms/step - loss: 0.1829 - accuracy: 0.9376 - val_loss: 0.2485 - val_accuracy: 0.9284\n",
      "Epoch 14/30\n",
      "7352/7352 [==============================] - 86s 12ms/step - loss: 0.1566 - accuracy: 0.9437 - val_loss: 0.2627 - val_accuracy: 0.9216\n",
      "Epoch 15/30\n",
      "7352/7352 [==============================] - 85s 12ms/step - loss: 0.1790 - accuracy: 0.9334 - val_loss: 0.2761 - val_accuracy: 0.9108\n",
      "Epoch 16/30\n",
      "7352/7352 [==============================] - 86s 12ms/step - loss: 0.1696 - accuracy: 0.9357 - val_loss: 0.2416 - val_accuracy: 0.9148\n",
      "Epoch 17/30\n",
      "7352/7352 [==============================] - 86s 12ms/step - loss: 0.1397 - accuracy: 0.9415 - val_loss: 0.1920 - val_accuracy: 0.9345\n",
      "Epoch 18/30\n",
      "7352/7352 [==============================] - 87s 12ms/step - loss: 0.1675 - accuracy: 0.9355 - val_loss: 0.2648 - val_accuracy: 0.9135\n",
      "Epoch 19/30\n",
      "7352/7352 [==============================] - 86s 12ms/step - loss: 0.1407 - accuracy: 0.9452 - val_loss: 0.1704 - val_accuracy: 0.9389\n",
      "Epoch 20/30\n",
      "7352/7352 [==============================] - 85s 12ms/step - loss: 0.1954 - accuracy: 0.9314 - val_loss: 0.3766 - val_accuracy: 0.8918\n",
      "Epoch 21/30\n",
      "7352/7352 [==============================] - 86s 12ms/step - loss: 0.1727 - accuracy: 0.9444 - val_loss: 0.3372 - val_accuracy: 0.9046\n",
      "Epoch 22/30\n",
      "7352/7352 [==============================] - 85s 12ms/step - loss: 0.1439 - accuracy: 0.9468 - val_loss: 0.2936 - val_accuracy: 0.9046\n",
      "Epoch 23/30\n",
      "7352/7352 [==============================] - 85s 12ms/step - loss: 0.1377 - accuracy: 0.9457 - val_loss: 0.2863 - val_accuracy: 0.9141\n",
      "Epoch 24/30\n",
      "7352/7352 [==============================] - 86s 12ms/step - loss: 0.1402 - accuracy: 0.9449 - val_loss: 0.2931 - val_accuracy: 0.9257\n",
      "Epoch 25/30\n",
      "7352/7352 [==============================] - 85s 12ms/step - loss: 0.1332 - accuracy: 0.9456 - val_loss: 0.3453 - val_accuracy: 0.9046\n",
      "Epoch 26/30\n",
      "7352/7352 [==============================] - 85s 12ms/step - loss: 0.1326 - accuracy: 0.9464 - val_loss: 0.3224 - val_accuracy: 0.9094\n",
      "Epoch 27/30\n",
      "7352/7352 [==============================] - 85s 12ms/step - loss: 0.1314 - accuracy: 0.9486 - val_loss: 0.2843 - val_accuracy: 0.9131\n",
      "Epoch 28/30\n",
      "7352/7352 [==============================] - 86s 12ms/step - loss: 0.1395 - accuracy: 0.9372 - val_loss: 0.2210 - val_accuracy: 0.9270\n",
      "Epoch 29/30\n",
      "7352/7352 [==============================] - 86s 12ms/step - loss: 0.1271 - accuracy: 0.9455 - val_loss: 0.3859 - val_accuracy: 0.9125\n",
      "Epoch 30/30\n",
      "7352/7352 [==============================] - 85s 12ms/step - loss: 0.1276 - accuracy: 0.9478 - val_loss: 0.2795 - val_accuracy: 0.9172\n"
     ]
    },
    {
     "data": {
      "text/plain": [
       "<keras.callbacks.callbacks.History at 0x131d82f1f60>"
      ]
     },
     "execution_count": 102,
     "metadata": {},
     "output_type": "execute_result"
    }
   ],
   "source": [
    "# Training the model\n",
    "model.fit(X_train, Y_train, batch_size=n_batch, validation_data=(X_test, Y_test), epochs=n_epochs)"
   ]
  },
  {
   "cell_type": "code",
   "execution_count": 103,
   "metadata": {},
   "outputs": [
    {
     "data": {
      "text/html": [
       "<div>\n",
       "<style scoped>\n",
       "    .dataframe tbody tr th:only-of-type {\n",
       "        vertical-align: middle;\n",
       "    }\n",
       "\n",
       "    .dataframe tbody tr th {\n",
       "        vertical-align: top;\n",
       "    }\n",
       "\n",
       "    .dataframe thead th {\n",
       "        text-align: right;\n",
       "    }\n",
       "</style>\n",
       "<table border=\"1\" class=\"dataframe\">\n",
       "  <thead>\n",
       "    <tr style=\"text-align: right;\">\n",
       "      <th>Pred</th>\n",
       "      <th>LAYING</th>\n",
       "      <th>SITTING</th>\n",
       "      <th>STANDING</th>\n",
       "      <th>WALKING</th>\n",
       "      <th>WALKING_DOWNSTAIRS</th>\n",
       "      <th>WALKING_UPSTAIRS</th>\n",
       "    </tr>\n",
       "    <tr>\n",
       "      <th>True</th>\n",
       "      <th></th>\n",
       "      <th></th>\n",
       "      <th></th>\n",
       "      <th></th>\n",
       "      <th></th>\n",
       "      <th></th>\n",
       "    </tr>\n",
       "  </thead>\n",
       "  <tbody>\n",
       "    <tr>\n",
       "      <th>LAYING</th>\n",
       "      <td>519</td>\n",
       "      <td>0</td>\n",
       "      <td>18</td>\n",
       "      <td>0</td>\n",
       "      <td>0</td>\n",
       "      <td>0</td>\n",
       "    </tr>\n",
       "    <tr>\n",
       "      <th>SITTING</th>\n",
       "      <td>7</td>\n",
       "      <td>388</td>\n",
       "      <td>96</td>\n",
       "      <td>0</td>\n",
       "      <td>0</td>\n",
       "      <td>0</td>\n",
       "    </tr>\n",
       "    <tr>\n",
       "      <th>STANDING</th>\n",
       "      <td>0</td>\n",
       "      <td>88</td>\n",
       "      <td>444</td>\n",
       "      <td>0</td>\n",
       "      <td>0</td>\n",
       "      <td>0</td>\n",
       "    </tr>\n",
       "    <tr>\n",
       "      <th>WALKING</th>\n",
       "      <td>0</td>\n",
       "      <td>0</td>\n",
       "      <td>0</td>\n",
       "      <td>477</td>\n",
       "      <td>16</td>\n",
       "      <td>3</td>\n",
       "    </tr>\n",
       "    <tr>\n",
       "      <th>WALKING_DOWNSTAIRS</th>\n",
       "      <td>0</td>\n",
       "      <td>0</td>\n",
       "      <td>0</td>\n",
       "      <td>0</td>\n",
       "      <td>420</td>\n",
       "      <td>0</td>\n",
       "    </tr>\n",
       "    <tr>\n",
       "      <th>WALKING_UPSTAIRS</th>\n",
       "      <td>0</td>\n",
       "      <td>0</td>\n",
       "      <td>0</td>\n",
       "      <td>6</td>\n",
       "      <td>10</td>\n",
       "      <td>455</td>\n",
       "    </tr>\n",
       "  </tbody>\n",
       "</table>\n",
       "</div>"
      ],
      "text/plain": [
       "Pred                LAYING  SITTING  STANDING  WALKING  WALKING_DOWNSTAIRS  \\\n",
       "True                                                                         \n",
       "LAYING                 519        0        18        0                   0   \n",
       "SITTING                  7      388        96        0                   0   \n",
       "STANDING                 0       88       444        0                   0   \n",
       "WALKING                  0        0         0      477                  16   \n",
       "WALKING_DOWNSTAIRS       0        0         0        0                 420   \n",
       "WALKING_UPSTAIRS         0        0         0        6                  10   \n",
       "\n",
       "Pred                WALKING_UPSTAIRS  \n",
       "True                                  \n",
       "LAYING                             0  \n",
       "SITTING                            0  \n",
       "STANDING                           0  \n",
       "WALKING                            3  \n",
       "WALKING_DOWNSTAIRS                 0  \n",
       "WALKING_UPSTAIRS                 455  "
      ]
     },
     "execution_count": 103,
     "metadata": {},
     "output_type": "execute_result"
    }
   ],
   "source": [
    "# Confusion Matrix\n",
    "new_confusion_matrix(Y_test, model.predict(X_test))"
   ]
  },
  {
   "cell_type": "code",
   "execution_count": 104,
   "metadata": {},
   "outputs": [
    {
     "name": "stdout",
     "output_type": "stream",
     "text": [
      "2947/2947 [==============================] - 3s 1ms/step\n",
      "\n",
      "   cat_crossentropy  ||   accuracy \n",
      "  ____________________________________\n",
      "[0.279539362433966, 0.917203962802887]\n"
     ]
    }
   ],
   "source": [
    "score = model.evaluate(X_test, Y_test)\n",
    "\n",
    "print(\"\\n   cat_crossentropy  ||   accuracy \")\n",
    "print(\"  ____________________________________\")\n",
    "print(score)"
   ]
  },
  {
   "cell_type": "code",
   "execution_count": null,
   "metadata": {},
   "outputs": [],
   "source": []
  }
 ],
 "metadata": {
  "kernelspec": {
   "display_name": "Python 3",
   "language": "python",
   "name": "python3"
  },
  "language_info": {
   "codemirror_mode": {
    "name": "ipython",
    "version": 3
   },
   "file_extension": ".py",
   "mimetype": "text/x-python",
   "name": "python",
   "nbconvert_exporter": "python",
   "pygments_lexer": "ipython3",
   "version": "3.7.6"
  }
 },
 "nbformat": 4,
 "nbformat_minor": 2
}
