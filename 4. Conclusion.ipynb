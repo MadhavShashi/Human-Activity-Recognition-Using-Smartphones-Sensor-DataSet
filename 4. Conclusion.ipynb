{
 "cells": [
  {
   "cell_type": "markdown",
   "metadata": {},
   "source": [
    "<h1><p style=\"color: green\">Conclusion</p></h1>"
   ]
  },
  {
   "cell_type": "code",
   "execution_count": 1,
   "metadata": {},
   "outputs": [],
   "source": [
    "from prettytable import PrettyTable"
   ]
  },
  {
   "cell_type": "code",
   "execution_count": 19,
   "metadata": {},
   "outputs": [
    {
     "name": "stdout",
     "output_type": "stream",
     "text": [
      "\n",
      "\n",
      " ********** Machine Learning Model Comparision ************\n",
      "+---------------------+------------------------+----------+\n",
      "|      Model Name     | Hyperparameter Tunning | Accuracy |\n",
      "+---------------------+------------------------+----------+\n",
      "| Logistic Regression |          Done          |  95.83%  |\n",
      "|     Linear SVC      |          Done          |  96.47%  |\n",
      "|  rbf SVM classifier |          Done          |  96.27%  |\n",
      "|     DecisionTree    |          Done          |  86.46%  |\n",
      "|    Random Forest    |          Done          |  92.6%   |\n",
      "+---------------------+------------------------+----------+\n",
      "\n",
      "\n",
      " ********************************* Deep Learning LSTM Model Comparision ***********************************\n",
      "+-------------------------------------------+------------------------+--------------------------+----------+\n",
      "|                 Model Name                | Hyperparameter Tunning | categorical_crossentropy | Accuracy |\n",
      "+-------------------------------------------+------------------------+--------------------------+----------+\n",
      "|       LSTM With 1_Layer(neurons:32)       |          Done          |           0.47           |   0.90   |\n",
      "| LSTM With 2_Layer(neurons:48, neurons:32) |          Done          |           0.39           |   0.90   |\n",
      "| LSTM With 2_Layer(neurons:64, neurons:48) |          Done          |           0.27           |   0.91   |\n",
      "+-------------------------------------------+------------------------+--------------------------+----------+\n"
     ]
    }
   ],
   "source": [
    "ptable1 = PrettyTable()\n",
    "ptable1.title = \" Model Comparision \"\n",
    "ptable1.field_names = ['Model Name','Hyperparameter Tunning', 'Accuracy']\n",
    "\n",
    "print(\"\\n\\n ********** Machine Learning Model Comparision ************\")\n",
    "ptable1.add_row([\"Logistic Regression\",\"Done\",\"95.83%\"])\n",
    "ptable1.add_row([\"Linear SVC  \",\"Done\",\"96.47%\"])\n",
    "ptable1.add_row([\"rbf SVM classifier\",\"Done\",\"96.27%\"])\n",
    "ptable1.add_row([\"DecisionTree\",\"Done\",\"86.46%\"])\n",
    "ptable1.add_row([\"Random Forest\",\"Done\",\"92.6%\"])\n",
    "\n",
    "print(ptable1)\n",
    "# *****************************************************************\n",
    "\n",
    "ptable2 = PrettyTable()\n",
    "ptable2.title = \" Model Comparision \"\n",
    "ptable2.field_names = ['Model Name','Hyperparameter Tunning', 'categorical_crossentropy', 'Accuracy']\n",
    "\n",
    "print(\"\\n\\n ********************************* Deep Learning LSTM Model Comparision ***********************************\")\n",
    "ptable2.add_row([\"LSTM With 1_Layer(neurons:32)\",\"Done\",\"0.47\", \"0.90\"])\n",
    "ptable2.add_row([\"LSTM With 2_Layer(neurons:48, neurons:32)\",\"Done\",\"0.39\", \"0.90\"])\n",
    "ptable2.add_row([\"LSTM With 2_Layer(neurons:64, neurons:48)\",\"Done\",\"0.27\", \"0.91\"])\n",
    "\n",
    "print(ptable2)"
   ]
  },
  {
   "cell_type": "markdown",
   "metadata": {},
   "source": [
    "1. ___Machine Learning Model Comparision___ :  We can choose ___Linear SVC___ or ___rbf SVM classifier___ or ___Logistic Regression___ as our best model while applying ML Classical Model."
   ]
  },
  {
   "cell_type": "markdown",
   "metadata": {},
   "source": [
    "2. ___Deep Learning LSTM Model Comparision___ : When we talking about LSTM Model, here with LSTM we are using simple RAW data(in ML model we are using Single engineered data made by an expert), but we can see the result without any FE data, LSTM perform very-very well and got highest 91% accuracy with 2_layer LSTM with hyperparameter Tunning and also we can clearly when we are increasing LSTM layer and Hyperparameter Tunning the cross-entropy value is decreasing and Accuracy is increasing."
   ]
  },
  {
   "cell_type": "code",
   "execution_count": null,
   "metadata": {},
   "outputs": [],
   "source": []
  }
 ],
 "metadata": {
  "kernelspec": {
   "display_name": "Python 3",
   "language": "python",
   "name": "python3"
  },
  "language_info": {
   "codemirror_mode": {
    "name": "ipython",
    "version": 3
   },
   "file_extension": ".py",
   "mimetype": "text/x-python",
   "name": "python",
   "nbconvert_exporter": "python",
   "pygments_lexer": "ipython3",
   "version": "3.7.6"
  }
 },
 "nbformat": 4,
 "nbformat_minor": 2
}
